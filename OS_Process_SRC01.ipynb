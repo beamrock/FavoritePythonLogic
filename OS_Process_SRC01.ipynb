{
 "cells": [
  {
   "cell_type": "code",
   "execution_count": 1,
   "id": "7bad4132",
   "metadata": {},
   "outputs": [],
   "source": [
    "import os"
   ]
  },
  {
   "cell_type": "code",
   "execution_count": 3,
   "id": "e0ae8114",
   "metadata": {},
   "outputs": [
    {
     "name": "stdout",
     "output_type": "stream",
     "text": [
      "Home Directory :  D:\\googledrive\\0.Dev\\JupyterNB_root\n",
      "['bi_mart_new_01_220221.sql', 'bi_mart_new_01_220221.sql.20220811', 'bi_mart_new_01_220221.sql.20220812', 'bi_mart_new_01_220221.sql.20220823', 'bi_mart_new_01_220221.sql.20220828', 'bi_mart_new_01_220221.sql.20220829', 'bi_mart_new_01_220221.sql.20220830', 'bi_mart_new_02_220221.sql', 'bi_mart_new_02_220221.sql.20220811', 'bi_mart_new_02_220221.sql.20220812', 'bi_mart_new_02_220221.sql.20220823', 'bi_mart_new_02_220221.sql.20220828', 'bi_mart_new_02_220221.sql.20220829', 'bi_mart_new_02_220221.sql.20220830', 'Hive_WF.sql', 'Hive_WF.sql.20220823', 'Hive_WF.sql.20220824', 'Hive_WF.sql.20220829', 'Hive_WF.sql.20220830', 'i_mart_new.sql', 'i_mart_new_ori.sql', 'MySQL_WF.sql', 'MySQL_WF.sql.20220829', 'MySQL_WF.sql.20220830', 'sample.sql', 'sql_union_sample.sql']\n",
      "\n",
      "bi_mart_new :  bi_mart_new_01_220221.sql\n",
      "bi_mart_new :  bi_mart_new_02_220221.sql\n",
      "Hive :  Hive_WF.sql\n",
      "MySQL :  MySQL_WF.sql\n"
     ]
    }
   ],
   "source": [
    "DIR_current=os.getcwd()\n",
    "print(\"Home Directory : \", DIR_current)\n",
    "DIR_SRCFILE=DIR_current + r'\\load'\n",
    "list_filelist = os.listdir(DIR_SRCFILE)\n",
    "print(list_filelist)\n",
    "\n",
    "print()\n",
    "for i in range(len(list_filelist)):\n",
    "    fileName=list_filelist[i]\n",
    "\n",
    "    if 'bi_mart_new' in fileName and fileName.lower().endswith('.sql'):\n",
    "        print('bi_mart_new : ', fileName)\n",
    "\n",
    "    if 'Hive' in fileName and fileName.lower().endswith('.sql'):\n",
    "        print('Hive : ', fileName)\n",
    "\n",
    "    if 'MySQL' in fileName and fileName.lower().endswith('.sql'):\n",
    "        print('MySQL : ', fileName)"
   ]
  },
  {
   "cell_type": "code",
   "execution_count": null,
   "id": "92976d15",
   "metadata": {},
   "outputs": [],
   "source": []
  }
 ],
 "metadata": {
  "kernelspec": {
   "display_name": "Python 3 (ipykernel)",
   "language": "python",
   "name": "python3"
  },
  "language_info": {
   "codemirror_mode": {
    "name": "ipython",
    "version": 3
   },
   "file_extension": ".py",
   "mimetype": "text/x-python",
   "name": "python",
   "nbconvert_exporter": "python",
   "pygments_lexer": "ipython3",
   "version": "3.9.7"
  }
 },
 "nbformat": 4,
 "nbformat_minor": 5
}
