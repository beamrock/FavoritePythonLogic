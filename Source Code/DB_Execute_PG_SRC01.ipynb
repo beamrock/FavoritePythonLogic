{
 "cells": [
  {
   "cell_type": "code",
   "execution_count": 1,
   "id": "55e4cc82",
   "metadata": {},
   "outputs": [],
   "source": [
    "### DB Connection\n",
    "import pandas as pd\n",
    "import psycopg2 as pg2\n",
    "from psycopg2 import OperationalError, errorcodes, errors\n",
    "import sys"
   ]
  },
  {
   "cell_type": "code",
   "execution_count": 3,
   "id": "803e65df",
   "metadata": {},
   "outputs": [
    {
     "name": "stdout",
     "output_type": "stream",
     "text": [
      "connected to the DB.\n"
     ]
    }
   ],
   "source": [
    "db01=pd.Series(['dqmdb' ,'dqmdb','192.168.56.103','5432','bitnine','1234','dqm_graph'])\n",
    "df_dblist=pd.DataFrame([list(db01)], columns=['CONN_ALIAS','DB_NM','IP','PORT','USER_NM','PASSWORD','GRAPH_NM'])\n",
    "connDB = 'dqmdb'\n",
    "df_conndb = df_dblist[(df_dblist['CONN_ALIAS']==connDB)]\n",
    "\n",
    "# Try Connect\n",
    "try:\n",
    "    conn=pg2.connect(dbname=df_conndb.iloc[0,1], host=df_conndb.iloc[0,2],port=df_conndb.iloc[0,3], user=df_conndb.iloc[0,4],password=df_conndb.iloc[0,5])    \n",
    "    print(\"connected to the DB.\")\n",
    "\n",
    "except OperationalError as err:\n",
    "    sys.exit()"
   ]
  },
  {
   "cell_type": "code",
   "execution_count": 4,
   "id": "30763ba2",
   "metadata": {},
   "outputs": [
    {
     "name": "stdout",
     "output_type": "stream",
     "text": [
      "Complete Creating the vt_tab and edg_tab_tab\n"
     ]
    }
   ],
   "source": [
    "cursor = conn.cursor()\n",
    "\n",
    "SQL_DRPTAB = \"\"\"DROP TABLE if exists SQLLIST\"\"\"\n",
    "SQL_CRETAB = \"\"\"CREATE TABLE if not exists SQLLIST(\n",
    "  SQL_ID       VARCHAR(17)\n",
    ", LOAD_FILE_NM text  \n",
    ", LOAD_DT      VARCHAR(8)  \n",
    ", SQL_TYPE     VARCHAR(4)\n",
    ", SQL_NUM      VARCHAR(5)\n",
    ", SQL_CONTENT  TEXT\n",
    ", SQL_LENGTH   numeric\n",
    ", SQL_DEPTH    numeric\n",
    ", PARSE_YN     VARCHAR(1)\n",
    ", PARSE_DT     VARCHAR(8)\n",
    ", PARSE_TYPE   VARCHAR(6)\n",
    ", MEMO         text\n",
    ")\"\"\"\n",
    "cursor.execute(SQL_DRPTAB)\n",
    "cursor.execute(SQL_CRETAB)\n",
    "conn.commit()    \n",
    "\n",
    "cursor.execute(\"drop vlabel if exists vt_tab cascade\")\n",
    "cursor.execute(\"create vlabel if not exists vt_tab\")\n",
    "cursor.execute(\"drop elabel if exists edg_tab_tab cascade\")\n",
    "cursor.execute(\"create elabel if not exists edg_tab_tab\")\n",
    "conn.commit()\n",
    "print(\"Complete Creating the vt_tab and edg_tab_tab\")\n",
    "\n",
    "cursor.close()"
   ]
  },
  {
   "cell_type": "code",
   "execution_count": null,
   "id": "98109c00",
   "metadata": {},
   "outputs": [],
   "source": []
  }
 ],
 "metadata": {
  "kernelspec": {
   "display_name": "Python 3 (ipykernel)",
   "language": "python",
   "name": "python3"
  },
  "language_info": {
   "codemirror_mode": {
    "name": "ipython",
    "version": 3
   },
   "file_extension": ".py",
   "mimetype": "text/x-python",
   "name": "python",
   "nbconvert_exporter": "python",
   "pygments_lexer": "ipython3",
   "version": "3.9.7"
  }
 },
 "nbformat": 4,
 "nbformat_minor": 5
}
