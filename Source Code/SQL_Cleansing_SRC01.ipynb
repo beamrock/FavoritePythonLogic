{
 "cells": [
  {
   "cell_type": "code",
   "execution_count": 1,
   "id": "ad947ca2",
   "metadata": {},
   "outputs": [],
   "source": [
    "import sqlparse\n",
    "from mo_sql_parsing import parse\n",
    "import pandas as pd"
   ]
  },
  {
   "cell_type": "code",
   "execution_count": 2,
   "id": "71ffbc76",
   "metadata": {},
   "outputs": [],
   "source": [
    "stmt= \"\"\"CREATE TABLE hive.tm_bbiz.mart_cretop_temp1 \n",
    "AS\n",
    "SELECT coalesce(bi.kedcd, c.kedcd) \t\t   kedcd\n",
    "      , coalesce(bi.bzno, c.bzno) \t\t\tbzno\n",
    "      , coalesce(bi.enp_nm, c.enp_nm) \t\tenp_nm\n",
    "      , coalesce(bi.enp_scd, c.enp_scd) \tenp_scd\n",
    "      , coalesce(bi.cono_pid, c.cono_pid) \tcono_pid\n",
    "      , coalesce(bi.loc_zip, c.loc_zip) \tloc_zip\n",
    "      , coalesce(bi.loc_addra, c.loc_addra) loc_addra\n",
    "      , coalesce(bi.loc_addrb, c.loc_addrb) loc_addrb\n",
    "      , coalesce(bi.tel_no, c.tel_no) \t\ttel_no\n",
    "      , coalesce(bi.estb_dt, c.estb_dt) \testb_dt\n",
    "      , cast(coalesce(bi.laborer_sum, c.laborer_sum) as int) laborer_sum\n",
    "      , c.grp_cd, c.grp_nm, c.enp_sze, c.enp_fcd, c.pubi_fcd, c.venp_yn, c.bzc_cd, c.ipo_cd, c.dlist_dt, c.hpage_url, c.email, c.fax_no\n",
    "      , coalesce(bi.grd_cls, d.grd_cls) grd_cls\n",
    "      , coalesce(bi.cr_grd, d.cr_grd) cr_grd\n",
    "      , d.ivg_mtd_cls\n",
    "      , a.acct_dt\n",
    "      , cast(a.sumasset as bigint)      * 1000 as sumasset         -- ?????\n",
    "      , cast(a.paymentfund as bigint)   * 1000 as paymentfund      -- ????????? \n",
    "      , cast(a.fundtotal as bigint)     * 1000 as fundtotal        -- ??????\n",
    "      , cast(a.sales as bigint)         * 1000 as sales            -- ?????\n",
    "      , cast(a.profit as bigint)        * 1000 as profit           -- ????????\n",
    "      , cast(a.termnetprofit as bigint) * 1000 as termnetprofit    -- ????????\n",
    "      , if(bi.kedcd is not null, 'Y', 'N') bi_ldin_yn\n",
    "      , if(c.kedcd is not null , 'Y', 'N') pd_cretop_ldin_yn\n",
    "FROM hive.tm_bbiz.ked_entrprs_schema c\n",
    "LEFT JOIN hive.tm_bbiz.ked_fnnr_info a on c.kedcd = a.kedcd \n",
    "LEFT JOIN hive.tm_bbiz.ked_credt_grad d on c.kedcd = d.kedcd \n",
    "FULL OUTER JOIN hive.tm_bbiz.bi_cretop_ecust_dtl bi ON c.kedcd = bi.kedcd\"\"\""
   ]
  },
  {
   "cell_type": "code",
   "execution_count": 3,
   "id": "6381ab04",
   "metadata": {},
   "outputs": [
    {
     "name": "stdout",
     "output_type": "stream",
     "text": [
      "CREATE TABLE hive.tm_bbiz.mart_cretop_temp1 \n",
      "AS\n",
      "SELECT coalesce(bi.kedcd, c.kedcd)      kedcd\n",
      "      , coalesce(bi.bzno, c.bzno)    bzno\n",
      "      , coalesce(bi.enp_nm, c.enp_nm)   enp_nm\n",
      "      , coalesce(bi.enp_scd, c.enp_scd)  enp_scd\n",
      "      , coalesce(bi.cono_pid, c.cono_pid)  cono_pid\n",
      "      , coalesce(bi.loc_zip, c.loc_zip)  loc_zip\n",
      "      , coalesce(bi.loc_addra, c.loc_addra) loc_addra\n",
      "      , coalesce(bi.loc_addrb, c.loc_addrb) loc_addrb\n",
      "      , coalesce(bi.tel_no, c.tel_no)   tel_no\n",
      "      , coalesce(bi.estb_dt, c.estb_dt)  estb_dt\n",
      "      ,  coalesce(bi.laborer_sum, c.laborer_sum)   laborer_sum\n",
      "      , c.grp_cd, c.grp_nm, c.enp_sze, c.enp_fcd, c.pubi_fcd, c.venp_yn, c.bzc_cd, c.ipo_cd, c.dlist_dt, c.hpage_url, c.email, c.fax_no\n",
      "      , coalesce(bi.grd_cls, d.grd_cls) grd_cls\n",
      "      , coalesce(bi.cr_grd, d.cr_grd) cr_grd\n",
      "      , d.ivg_mtd_cls\n",
      "      , a.acct_dt\n",
      "      ,  a.sumasset        * 1000 as sumasset         -- ?????\n",
      "      ,  a.paymentfund     * 1000 as paymentfund      -- ????????? \n",
      "      ,  a.fundtotal       * 1000 as fundtotal        -- ??????\n",
      "      ,  a.sales           * 1000 as sales            -- ?????\n",
      "      ,  a.profit          * 1000 as profit           -- ????????\n",
      "      ,  a.termnetprofit   * 1000 as termnetprofit    -- ????????\n",
      "       -- bi.kedcd is not null, 'Y', 'N') bi_ldin_yn\n",
      "       -- c.kedcd is not null , 'Y', 'N') pd_cretop_ldin_yn\n",
      "FROM hive.tm_bbiz.ked_entrprs_schema c\n",
      "LEFT JOIN hive.tm_bbiz.ked_fnnr_info a on c.kedcd = a.kedcd \n",
      "LEFT JOIN hive.tm_bbiz.ked_credt_grad d on c.kedcd = d.kedcd \n",
      "FULL OUTER JOIN hive.tm_bbiz.bi_cretop_ecust_dtl bi ON c.kedcd = bi.kedcd\n"
     ]
    }
   ],
   "source": [
    "list_blank_target=['AS `COUNT(*)`','\\t','cast(','as varchar)','${','}',';','PARTITION (etl_ymd= PROC_DATE )','$partitions','as double)','as int)','as bigint)', 'as string)','`','(#1)']\n",
    "list_comment_target=[', count(DISTINCT CASE WHEN',', array_join(filter', ', if(', ', coalesce(datediff']\n",
    "\n",
    "for i in range(len(list_blank_target)):\n",
    "    stmt=stmt.replace(list_blank_target[i],' ')\n",
    "\n",
    "for i in range(len(list_comment_target)):\n",
    "    stmt=stmt.replace(list_comment_target[i],' -- ')\n",
    "\n",
    "print(stmt)"
   ]
  },
  {
   "cell_type": "code",
   "execution_count": 4,
   "id": "feb7048a",
   "metadata": {},
   "outputs": [],
   "source": [
    "stmt02=sqlparse.format(stmt, strip_comments=True).strip()"
   ]
  },
  {
   "cell_type": "code",
   "execution_count": 5,
   "id": "20edbf26",
   "metadata": {},
   "outputs": [
    {
     "name": "stdout",
     "output_type": "stream",
     "text": [
      "CREATE TABLE hive.tm_bbiz.mart_cretop_temp1\n",
      "AS\n",
      "SELECT coalesce(bi.kedcd, c.kedcd)      kedcd\n",
      "      , coalesce(bi.bzno, c.bzno)    bzno\n",
      "      , coalesce(bi.enp_nm, c.enp_nm)   enp_nm\n",
      "      , coalesce(bi.enp_scd, c.enp_scd)  enp_scd\n",
      "      , coalesce(bi.cono_pid, c.cono_pid)  cono_pid\n",
      "      , coalesce(bi.loc_zip, c.loc_zip)  loc_zip\n",
      "      , coalesce(bi.loc_addra, c.loc_addra) loc_addra\n",
      "      , coalesce(bi.loc_addrb, c.loc_addrb) loc_addrb\n",
      "      , coalesce(bi.tel_no, c.tel_no)   tel_no\n",
      "      , coalesce(bi.estb_dt, c.estb_dt)  estb_dt\n",
      "      ,  coalesce(bi.laborer_sum, c.laborer_sum)   laborer_sum\n",
      "      , c.grp_cd, c.grp_nm, c.enp_sze, c.enp_fcd, c.pubi_fcd, c.venp_yn, c.bzc_cd, c.ipo_cd, c.dlist_dt, c.hpage_url, c.email, c.fax_no\n",
      "      , coalesce(bi.grd_cls, d.grd_cls) grd_cls\n",
      "      , coalesce(bi.cr_grd, d.cr_grd) cr_grd\n",
      "      , d.ivg_mtd_cls\n",
      "      , a.acct_dt\n",
      "      ,  a.sumasset        * 1000 as sumasset\n",
      ",  a.paymentfund     * 1000 as paymentfund\n",
      ",  a.fundtotal       * 1000 as fundtotal\n",
      ",  a.sales           * 1000 as sales\n",
      ",  a.profit          * 1000 as profit\n",
      ",  a.termnetprofit   * 1000 as termnetprofit\n",
      "FROM hive.tm_bbiz.ked_entrprs_schema c\n",
      "LEFT JOIN hive.tm_bbiz.ked_fnnr_info a on c.kedcd = a.kedcd\n",
      "LEFT JOIN hive.tm_bbiz.ked_credt_grad d on c.kedcd = d.kedcd\n",
      "FULL OUTER JOIN hive.tm_bbiz.bi_cretop_ecust_dtl bi ON c.kedcd = bi.kedcd\n"
     ]
    }
   ],
   "source": [
    "print(stmt02)"
   ]
  },
  {
   "cell_type": "code",
   "execution_count": 6,
   "id": "eb08e486",
   "metadata": {},
   "outputs": [
    {
     "name": "stdout",
     "output_type": "stream",
     "text": [
      "{'create table': {'name': 'hive.tm_bbiz.mart_cretop_temp1', 'query': {'select': [{'value': {'coalesce': ['bi.kedcd', 'c.kedcd']}, 'name': 'kedcd'}, {'value': {'coalesce': ['bi.bzno', 'c.bzno']}, 'name': 'bzno'}, {'value': {'coalesce': ['bi.enp_nm', 'c.enp_nm']}, 'name': 'enp_nm'}, {'value': {'coalesce': ['bi.enp_scd', 'c.enp_scd']}, 'name': 'enp_scd'}, {'value': {'coalesce': ['bi.cono_pid', 'c.cono_pid']}, 'name': 'cono_pid'}, {'value': {'coalesce': ['bi.loc_zip', 'c.loc_zip']}, 'name': 'loc_zip'}, {'value': {'coalesce': ['bi.loc_addra', 'c.loc_addra']}, 'name': 'loc_addra'}, {'value': {'coalesce': ['bi.loc_addrb', 'c.loc_addrb']}, 'name': 'loc_addrb'}, {'value': {'coalesce': ['bi.tel_no', 'c.tel_no']}, 'name': 'tel_no'}, {'value': {'coalesce': ['bi.estb_dt', 'c.estb_dt']}, 'name': 'estb_dt'}, {'value': {'coalesce': ['bi.laborer_sum', 'c.laborer_sum']}, 'name': 'laborer_sum'}, {'value': 'c.grp_cd'}, {'value': 'c.grp_nm'}, {'value': 'c.enp_sze'}, {'value': 'c.enp_fcd'}, {'value': 'c.pubi_fcd'}, {'value': 'c.venp_yn'}, {'value': 'c.bzc_cd'}, {'value': 'c.ipo_cd'}, {'value': 'c.dlist_dt'}, {'value': 'c.hpage_url'}, {'value': 'c.email'}, {'value': 'c.fax_no'}, {'value': {'coalesce': ['bi.grd_cls', 'd.grd_cls']}, 'name': 'grd_cls'}, {'value': {'coalesce': ['bi.cr_grd', 'd.cr_grd']}, 'name': 'cr_grd'}, {'value': 'd.ivg_mtd_cls'}, {'value': 'a.acct_dt'}, {'value': {'mul': ['a.sumasset', 1000]}, 'name': 'sumasset'}, {'value': {'mul': ['a.paymentfund', 1000]}, 'name': 'paymentfund'}, {'value': {'mul': ['a.fundtotal', 1000]}, 'name': 'fundtotal'}, {'value': {'mul': ['a.sales', 1000]}, 'name': 'sales'}, {'value': {'mul': ['a.profit', 1000]}, 'name': 'profit'}, {'value': {'mul': ['a.termnetprofit', 1000]}, 'name': 'termnetprofit'}], 'from': [{'value': 'hive.tm_bbiz.ked_entrprs_schema', 'name': 'c'}, {'left join': {'value': 'hive.tm_bbiz.ked_fnnr_info', 'name': 'a'}, 'on': {'eq': ['c.kedcd', 'a.kedcd']}}, {'left join': {'value': 'hive.tm_bbiz.ked_credt_grad', 'name': 'd'}, 'on': {'eq': ['c.kedcd', 'd.kedcd']}}, {'full outer join': {'value': 'hive.tm_bbiz.bi_cretop_ecust_dtl', 'name': 'bi'}, 'on': {'eq': ['c.kedcd', 'bi.kedcd']}}]}}}\n"
     ]
    }
   ],
   "source": [
    "stmt03=parse(stmt02)\n",
    "print(stmt03)"
   ]
  },
  {
   "cell_type": "code",
   "execution_count": 9,
   "id": "bae81783",
   "metadata": {},
   "outputs": [
    {
     "name": "stdout",
     "output_type": "stream",
     "text": [
      "                create table.name  \\\n",
      "0  hive.tm_bbiz.mart_cretop_temp1   \n",
      "\n",
      "                           create table.query.select  \\\n",
      "0  [{'value': {'coalesce': ['bi.kedcd', 'c.kedcd'...   \n",
      "\n",
      "                             create table.query.from  \n",
      "0  [{'value': 'hive.tm_bbiz.ked_entrprs_schema', ...  \n"
     ]
    }
   ],
   "source": [
    "df_stmt = pd.json_normalize(stmt03)\n",
    "print(df_stmt)\n",
    "#print(df_stmt.to_string())"
   ]
  },
  {
   "cell_type": "code",
   "execution_count": 11,
   "id": "4f596967",
   "metadata": {},
   "outputs": [
    {
     "name": "stdout",
     "output_type": "stream",
     "text": [
      "['create table.name', 'create table.query.select', 'create table.query.from']\n"
     ]
    }
   ],
   "source": [
    "list_df_stmt_header= list(df_stmt)\n",
    "print(list_df_stmt_header)"
   ]
  },
  {
   "cell_type": "code",
   "execution_count": null,
   "id": "c5c9798e",
   "metadata": {},
   "outputs": [],
   "source": []
  }
 ],
 "metadata": {
  "kernelspec": {
   "display_name": "Python 3 (ipykernel)",
   "language": "python",
   "name": "python3"
  },
  "language_info": {
   "codemirror_mode": {
    "name": "ipython",
    "version": 3
   },
   "file_extension": ".py",
   "mimetype": "text/x-python",
   "name": "python",
   "nbconvert_exporter": "python",
   "pygments_lexer": "ipython3",
   "version": "3.9.7"
  }
 },
 "nbformat": 4,
 "nbformat_minor": 5
}
