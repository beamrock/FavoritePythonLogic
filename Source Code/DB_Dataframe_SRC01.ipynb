{
 "cells": [
  {
   "cell_type": "code",
   "execution_count": 1,
   "id": "55e4cc82",
   "metadata": {},
   "outputs": [],
   "source": [
    "### DB Connection\n",
    "import pandas as pd\n",
    "import psycopg2 as pg2\n",
    "from psycopg2 import OperationalError, errorcodes, errors\n",
    "import sys\n",
    "import os\n",
    "from datetime import datetime"
   ]
  },
  {
   "cell_type": "code",
   "execution_count": 2,
   "id": "803e65df",
   "metadata": {},
   "outputs": [
    {
     "name": "stdout",
     "output_type": "stream",
     "text": [
      "connected to the DB.\n"
     ]
    }
   ],
   "source": [
    "db01=pd.Series(['dqmdb' ,'dqmdb','192.168.56.103','5432','bitnine','1234','dqm_graph'])\n",
    "df_dblist=pd.DataFrame([list(db01)], columns=['CONN_ALIAS','DB_NM','IP','PORT','USER_NM','PASSWORD','GRAPH_NM'])\n",
    "connDB = 'dqmdb'\n",
    "df_conndb = df_dblist[(df_dblist['CONN_ALIAS']==connDB)]\n",
    "\n",
    "# Try Connect\n",
    "try:\n",
    "    conn=pg2.connect(dbname=df_conndb.iloc[0,1], host=df_conndb.iloc[0,2],port=df_conndb.iloc[0,3], user=df_conndb.iloc[0,4],password=df_conndb.iloc[0,5])    \n",
    "    print(\"connected to the DB.\")\n",
    "\n",
    "except OperationalError as err:\n",
    "    sys.exit()"
   ]
  },
  {
   "cell_type": "code",
   "execution_count": 10,
   "id": "98109c00",
   "metadata": {},
   "outputs": [
    {
     "name": "stdout",
     "output_type": "stream",
     "text": [
      "0 CREATE TABLE hive.tm\n",
      "\n",
      "1 SELECT    sfa_ecust_\n",
      "\n",
      "2 CREATE TABLE tm_bbiz\n",
      "\n",
      "3 CREATE TABLE tm_bbiz\n",
      "\n",
      "4 CREATE TABLE tm_bbiz\n",
      "\n",
      "5 CREATE TABLE tm_bbiz\n",
      "\n",
      "6 CREATE TABLE hive.tm\n",
      "\n",
      "7 CREATE TABLE hive.tm\n",
      "\n",
      "8 CREATE TABLE hive.tm\n",
      "\n",
      "9 CREATE TABLE hive.tm\n",
      "\n"
     ]
    }
   ],
   "source": [
    "load_sqllist=\"select * from sqllist t limit 10\"\n",
    "df_sqllist = pd.read_sql(load_sqllist, conn)\n",
    "\n",
    "for j in range(len(df_sqllist)):\n",
    "\n",
    "    LOAD_DT = df_sqllist['load_dt'][j]\n",
    "    SQL_NUM = df_sqllist['sql_num'][j]\n",
    "    LOAD_FILE_NM = df_sqllist['load_file_nm'][j]\n",
    "    sql_target_ori = df_sqllist['sql_content'][j]\n",
    "    \n",
    "    print(j, sql_target_ori[:20])\n",
    "    print()"
   ]
  },
  {
   "cell_type": "code",
   "execution_count": null,
   "id": "b0c892c7",
   "metadata": {},
   "outputs": [],
   "source": []
  }
 ],
 "metadata": {
  "kernelspec": {
   "display_name": "Python 3 (ipykernel)",
   "language": "python",
   "name": "python3"
  },
  "language_info": {
   "codemirror_mode": {
    "name": "ipython",
    "version": 3
   },
   "file_extension": ".py",
   "mimetype": "text/x-python",
   "name": "python",
   "nbconvert_exporter": "python",
   "pygments_lexer": "ipython3",
   "version": "3.9.7"
  }
 },
 "nbformat": 4,
 "nbformat_minor": 5
}
