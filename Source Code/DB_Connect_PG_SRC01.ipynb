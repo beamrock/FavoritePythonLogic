{
 "cells": [
  {
   "cell_type": "code",
   "execution_count": 19,
   "id": "0ef0de29",
   "metadata": {},
   "outputs": [],
   "source": [
    "### DB Connection\n",
    "import pandas as pd\n",
    "import psycopg2 as pg2\n",
    "from psycopg2 import OperationalError, errorcodes, errors\n",
    "import sys"
   ]
  },
  {
   "cell_type": "code",
   "execution_count": 20,
   "id": "775658e0",
   "metadata": {},
   "outputs": [],
   "source": [
    "def print_psycopg2_exception(err):\n",
    "    # get details about the exception\n",
    "    err_type, err_obj, traceback = sys.exc_info()\n",
    "\n",
    "    # get the line number when exception occured\n",
    "    line_num = traceback.tb_lineno\n",
    "\n",
    "    # print the connect() error\n",
    "    print (\"\\npsycopg2 ERROR:\", err, \"on line number:\", line_num)\n",
    "    print (\"psycopg2 traceback:\", traceback, \"-- type:\", err_type)\n",
    "\n",
    "    # psycopg2 extensions.Diagnostics object attribute\n",
    "    print (\"\\nextensions.Diagnostics:\", err.diag)\n",
    "\n",
    "    # print the pgcode and pgerror exceptions\n",
    "    print (\"pgerror:\", err.pgerror)\n",
    "    print (\"pgcode:\", err.pgcode, \"\\n\")\n",
    "    \n",
    "    return err, line_num, traceback, err_type, err.diag, err.pgerror, err.pgcode"
   ]
  },
  {
   "cell_type": "code",
   "execution_count": 22,
   "id": "f35df8f7",
   "metadata": {},
   "outputs": [
    {
     "name": "stdout",
     "output_type": "stream",
     "text": [
      "[Connect DB Info]\n",
      "CONN_ALIAS : dqmdb\n",
      "DB_NM      : dqmdb\n",
      "IP         : 192.168.56.103\n",
      "PORT       : 5432\n",
      "USER_NM    : bitnine\n",
      "PASSWORD   : 1234\n",
      "Default Graph : dqm_graph\n",
      "Connecting DB\n",
      "Current autocommit Setting :  True\n",
      "connected to the DB.\n",
      "\n"
     ]
    }
   ],
   "source": [
    "db01=pd.Series(['dqmdb' ,'dqmdb','192.168.56.103','5432','bitnine','1234','dqm_graph'])\n",
    "df_dblist=pd.DataFrame([list(db01)], columns=['CONN_ALIAS','DB_NM','IP','PORT','USER_NM','PASSWORD','GRAPH_NM'])\n",
    "connDB = 'dqmdb'\n",
    "df_conndb = df_dblist[(df_dblist['CONN_ALIAS']==connDB)]\n",
    "\n",
    "print(\"[Connect DB Info]\")\n",
    "print(\"CONN_ALIAS : \" + df_conndb.iloc[0,0])\n",
    "print(\"DB_NM      : \" + df_conndb.iloc[0,1])\n",
    "print(\"IP         : \" + df_conndb.iloc[0,2])\n",
    "print(\"PORT       : \" + df_conndb.iloc[0,3])\n",
    "print(\"USER_NM    : \" + df_conndb.iloc[0,4])\n",
    "print(\"PASSWORD   : \" + df_conndb.iloc[0,5])\n",
    "print(\"Default Graph : \" + df_conndb.iloc[0,6])\n",
    "\n",
    "# Try Connect\n",
    "try:\n",
    "    print(\"Connecting DB\")\n",
    "    conn=pg2.connect(dbname=df_conndb.iloc[0,1], host=df_conndb.iloc[0,2],port=df_conndb.iloc[0,3], user=df_conndb.iloc[0,4],password=df_conndb.iloc[0,5])    \n",
    "    conn.autocommit = True\n",
    "    print(\"Current autocommit Setting : \", conn.autocommit)\n",
    "    print(\"connected to the DB.\")\n",
    "    print(\"\")\n",
    "\n",
    "    # Initial Session\n",
    "    try:\n",
    "        cur=conn.cursor()\n",
    "        DB_A_SET_GRAPH=\"\"\"set graph_path='%s'\"\"\" % (df_conndb.iloc[0,6])\n",
    "        cur.execute(DB_A_SET_GRAPH)\n",
    "        conn.commit()\n",
    "        cur.close()\n",
    "    except:\n",
    "        print(\"No Graph\")\n",
    "        cur.close()\n",
    "\n",
    "except OperationalError as err:\n",
    "    print_psycopg2_exception(err)\n",
    "    sys.exit()"
   ]
  },
  {
   "cell_type": "code",
   "execution_count": null,
   "id": "ee87732d",
   "metadata": {},
   "outputs": [],
   "source": []
  }
 ],
 "metadata": {
  "kernelspec": {
   "display_name": "Python 3 (ipykernel)",
   "language": "python",
   "name": "python3"
  },
  "language_info": {
   "codemirror_mode": {
    "name": "ipython",
    "version": 3
   },
   "file_extension": ".py",
   "mimetype": "text/x-python",
   "name": "python",
   "nbconvert_exporter": "python",
   "pygments_lexer": "ipython3",
   "version": "3.9.7"
  }
 },
 "nbformat": 4,
 "nbformat_minor": 5
}
