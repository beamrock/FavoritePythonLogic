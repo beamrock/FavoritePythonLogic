{
 "cells": [
  {
   "cell_type": "code",
   "execution_count": 2,
   "id": "859a1636",
   "metadata": {},
   "outputs": [],
   "source": [
    "import os"
   ]
  },
  {
   "cell_type": "code",
   "execution_count": 3,
   "id": "8fa9f0c2",
   "metadata": {},
   "outputs": [
    {
     "name": "stdout",
     "output_type": "stream",
     "text": [
      "Home Directory :  D:\\googledrive\\0.Dev\\JupyterNB_root\n",
      "Source File :  D:\\googledrive\\0.Dev\\JupyterNB_root\\load\\bi_mart_new_01_220221.sql\n",
      "Target File :  D:\\googledrive\\0.Dev\\JupyterNB_root\\load\\bi_mart_new_01_220221.sql_tobe\n",
      "20 <class 'list'>\n"
     ]
    }
   ],
   "source": [
    "DIR_current=os.getcwd()\n",
    "print(\"Home Directory : \", DIR_current)\n",
    "DIR_SRCFILE=DIR_current + r'\\load'\n",
    "fileName = 'bi_mart_new_01_220221.sql'\n",
    "full_path_file_asis = DIR_SRCFILE + '\\\\' + fileName\n",
    "print('Source File : ', full_path_file_asis)\n",
    "full_path_file_tobe = full_path_file_asis + '_tobe'\n",
    "print('Target File : ', full_path_file_tobe)\n",
    "\n",
    "with open(full_path_file_asis, 'r') as file_data:\n",
    "\n",
    "    with open(full_path_file_tobe, 'w') as file_data_tobe:\n",
    "\n",
    "        list_del_line_keyword = ['--', 'set ', 'drop table ','alter table ']\n",
    "\n",
    "        for line in file_data:\n",
    "\n",
    "            if \"substr(\" in line:\n",
    "                stmt01 = line.split(sep='substr(')\n",
    "                stmt02 = stmt01[1].split(sep=')')\n",
    "                stmt03 = stmt02[0].split(sep=',')\n",
    "                stmt_final = stmt01[0] + stmt03[0] + stmt02[1]\n",
    "\n",
    "            if not line.lower().startswith(tuple(list_del_line_keyword)):\n",
    "                file_data_tobe.write(line)\n",
    "\n",
    "with open(full_path_file_tobe, 'r') as fd:\n",
    "    sqlfile = fd.read()\n",
    "\n",
    "list_sql = sqlfile.split(';')\n",
    "print(len(list_sql), type(list_sql))"
   ]
  },
  {
   "cell_type": "code",
   "execution_count": null,
   "id": "d67f2bcd",
   "metadata": {},
   "outputs": [],
   "source": []
  }
 ],
 "metadata": {
  "kernelspec": {
   "display_name": "Python 3 (ipykernel)",
   "language": "python",
   "name": "python3"
  },
  "language_info": {
   "codemirror_mode": {
    "name": "ipython",
    "version": 3
   },
   "file_extension": ".py",
   "mimetype": "text/x-python",
   "name": "python",
   "nbconvert_exporter": "python",
   "pygments_lexer": "ipython3",
   "version": "3.9.7"
  }
 },
 "nbformat": 4,
 "nbformat_minor": 5
}
