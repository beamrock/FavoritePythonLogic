{
 "cells": [
  {
   "cell_type": "code",
   "execution_count": 2,
   "id": "859a1636",
   "metadata": {},
   "outputs": [],
   "source": [
    "import os"
   ]
  },
  {
   "cell_type": "code",
   "execution_count": 3,
   "id": "8fa9f0c2",
   "metadata": {},
   "outputs": [
    {
     "name": "stdout",
     "output_type": "stream",
     "text": [
      "Home Directory :  D:\\googledrive\\0.Dev\\JupyterNB_root\n",
      "Source File :  D:\\googledrive\\0.Dev\\JupyterNB_root\\load\\Hive_WF.sql\n",
      "Target File :  D:\\googledrive\\0.Dev\\JupyterNB_root\\load\\Hive_WF.sql_tobe\n",
      "@@@@@ list_sql Count :  7 <class 'list'>\n"
     ]
    }
   ],
   "source": [
    "DIR_current=os.getcwd()\n",
    "print(\"Home Directory : \", DIR_current)\n",
    "DIR_SRCFILE=DIR_current + r'\\load'\n",
    "fileName = 'Hive_WF.sql'\n",
    "full_path_file_asis = DIR_SRCFILE + '\\\\' + fileName\n",
    "print('Source File : ', full_path_file_asis)\n",
    "full_path_file_tobe = full_path_file_asis + '_tobe'\n",
    "print('Target File : ', full_path_file_tobe)\n",
    "\n",
    "with open(full_path_file_asis, 'r') as file_data:\n",
    "\n",
    "    with open(full_path_file_tobe, 'w') as file_data_tobe:\n",
    "        list_contain_keyword = ['statement.executequery','limit',' join ','select ', 'where','from','group by','order by','having',' on ']\n",
    "\n",
    "        for line in file_data:\n",
    "            cnt_keyword=0\n",
    "            sqlstr = line.lower()\n",
    "\n",
    "            for i in range(len(list_contain_keyword)):\n",
    "\n",
    "                if list_contain_keyword[i] in sqlstr:\n",
    "                    #print('###', list_contain_keyword[i], '### contains with ', sqlstr)\n",
    "                    cnt_keyword+=1\n",
    "                # else:\n",
    "                #     print()\n",
    "                #     print('***', list_contain_keyword[i], '*** NOT contains with ', sqlstr)\n",
    "\n",
    "            #print(\"@@@@@@@@@@@@@@@@@@@@Sum Count Keyword : \", cnt_keyword)\n",
    "            if  cnt_keyword > 0:\n",
    "                if '(sql=<SQL>): ' in line:\n",
    "                    sql_only=line.split(sep='(sql=<SQL>): ',maxsplit=1)\n",
    "                    file_data_tobe.write(sql_only[1])\n",
    "                else:\n",
    "                    file_data_tobe.write(line)\n",
    "\n",
    "with open(full_path_file_tobe, 'r') as fd:\n",
    "    sqlfile = fd.read()\n",
    "\n",
    "list_sql = sqlfile.split(';')\n",
    "print(\"@@@@@ list_sql Count : \", len(list_sql), type(list_sql))"
   ]
  },
  {
   "cell_type": "code",
   "execution_count": null,
   "id": "d67f2bcd",
   "metadata": {},
   "outputs": [],
   "source": []
  }
 ],
 "metadata": {
  "kernelspec": {
   "display_name": "Python 3 (ipykernel)",
   "language": "python",
   "name": "python3"
  },
  "language_info": {
   "codemirror_mode": {
    "name": "ipython",
    "version": 3
   },
   "file_extension": ".py",
   "mimetype": "text/x-python",
   "name": "python",
   "nbconvert_exporter": "python",
   "pygments_lexer": "ipython3",
   "version": "3.9.7"
  }
 },
 "nbformat": 4,
 "nbformat_minor": 5
}
