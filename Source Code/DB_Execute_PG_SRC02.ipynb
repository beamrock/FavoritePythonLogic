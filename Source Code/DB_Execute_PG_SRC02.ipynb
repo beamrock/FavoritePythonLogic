{
 "cells": [
  {
   "cell_type": "code",
   "execution_count": 1,
   "id": "55e4cc82",
   "metadata": {},
   "outputs": [],
   "source": [
    "### DB Connection\n",
    "import pandas as pd\n",
    "import psycopg2 as pg2\n",
    "from psycopg2 import OperationalError, errorcodes, errors\n",
    "import sys\n",
    "import os\n",
    "from datetime import datetime"
   ]
  },
  {
   "cell_type": "code",
   "execution_count": 2,
   "id": "803e65df",
   "metadata": {},
   "outputs": [
    {
     "name": "stdout",
     "output_type": "stream",
     "text": [
      "connected to the DB.\n"
     ]
    }
   ],
   "source": [
    "db01=pd.Series(['dqmdb' ,'dqmdb','192.168.56.103','5432','bitnine','1234','dqm_graph'])\n",
    "df_dblist=pd.DataFrame([list(db01)], columns=['CONN_ALIAS','DB_NM','IP','PORT','USER_NM','PASSWORD','GRAPH_NM'])\n",
    "connDB = 'dqmdb'\n",
    "df_conndb = df_dblist[(df_dblist['CONN_ALIAS']==connDB)]\n",
    "\n",
    "# Try Connect\n",
    "try:\n",
    "    conn=pg2.connect(dbname=df_conndb.iloc[0,1], host=df_conndb.iloc[0,2],port=df_conndb.iloc[0,3], user=df_conndb.iloc[0,4],password=df_conndb.iloc[0,5])    \n",
    "    print(\"connected to the DB.\")\n",
    "\n",
    "except OperationalError as err:\n",
    "    sys.exit()"
   ]
  },
  {
   "cell_type": "code",
   "execution_count": 3,
   "id": "d55937fd",
   "metadata": {},
   "outputs": [
    {
     "name": "stdout",
     "output_type": "stream",
     "text": [
      "Home Directory :  D:\\googledrive\\0.Dev\\JupyterNB_root\n",
      "Source File :  D:\\googledrive\\0.Dev\\JupyterNB_root\\load\\bi_mart_new_01_220221.sql\n",
      "Target File :  D:\\googledrive\\0.Dev\\JupyterNB_root\\load\\bi_mart_new_01_220221.sql_tobe\n",
      "20 <class 'list'>\n"
     ]
    }
   ],
   "source": [
    "DIR_current=os.getcwd()\n",
    "print(\"Home Directory : \", DIR_current)\n",
    "DIR_SRCFILE=DIR_current + r'\\load'\n",
    "fileName = 'bi_mart_new_01_220221.sql'\n",
    "full_path_file_asis = DIR_SRCFILE + '\\\\' + fileName\n",
    "print('Source File : ', full_path_file_asis)\n",
    "full_path_file_tobe = full_path_file_asis + '_tobe'\n",
    "print('Target File : ', full_path_file_tobe)\n",
    "\n",
    "with open(full_path_file_tobe, 'r') as fd:\n",
    "    sqlfile = fd.read()\n",
    "\n",
    "list_sql = sqlfile.split(';')\n",
    "print(len(list_sql), type(list_sql))\n"
   ]
  },
  {
   "cell_type": "code",
   "execution_count": 4,
   "id": "30763ba2",
   "metadata": {},
   "outputs": [
    {
     "name": "stdout",
     "output_type": "stream",
     "text": [
      "INSERT Success. :  00001\n",
      "INSERT Success. :  00002\n",
      "INSERT Success. :  00003\n",
      "INSERT Success. :  00004\n",
      "INSERT Success. :  00005\n",
      "INSERT Success. :  00006\n",
      "INSERT Success. :  00007\n",
      "INSERT Success. :  00008\n",
      "INSERT Success. :  00009\n",
      "INSERT Success. :  00010\n",
      "INSERT Success. :  00011\n",
      "INSERT Success. :  00012\n",
      "INSERT Success. :  00013\n",
      "INSERT Success. :  00014\n",
      "INSERT Success. :  00015\n",
      "INSERT Success. :  00016\n",
      "INSERT Success. :  00017\n",
      "INSERT Success. :  00018\n",
      "INSERT Success. :  00019\n"
     ]
    }
   ],
   "source": [
    "cursor = conn.cursor()\n",
    "\n",
    "SQL_insert_format = \"INSERT INTO SQLLIST(LOAD_FILE_NM, LOAD_DT, SQL_NUM, SQL_CONTENT, SQL_LENGTH) VALUES('%s','%s', '%s', '%s', %s)\"\n",
    "now      = datetime.now()\n",
    "nowDate  = now.strftime('%Y%m%d') \n",
    "LOAD_DT = nowDate\n",
    "\n",
    "for i in range(len(list_sql)):\n",
    "\n",
    "    SQL_NUM = str(i+1).zfill(5)\n",
    "    SQL_CONTENT = list_sql[i].replace(\"'\",\"''\").strip()\n",
    "    SQL_LENGTH = len(SQL_CONTENT)\n",
    "\n",
    "    SQL_insert = SQL_insert_format % (fileName, LOAD_DT, SQL_NUM, SQL_CONTENT, SQL_LENGTH)\n",
    "    #print(SQL_insert)\n",
    "\n",
    "    if SQL_LENGTH != 0:\n",
    "        try:\n",
    "           cursor.execute(SQL_insert)\n",
    "           conn.commit()\n",
    "           print(\"INSERT Success. : \", SQL_NUM)\n",
    "        except (Exception, psycopg2.DatabaseError) as error:\n",
    "           print(\"INSERT Failed. : \", SQL_NUM, error)\n",
    "           conn.rollback()\n",
    "\n",
    "cursor.close()"
   ]
  },
  {
   "cell_type": "code",
   "execution_count": null,
   "id": "98109c00",
   "metadata": {},
   "outputs": [],
   "source": []
  }
 ],
 "metadata": {
  "kernelspec": {
   "display_name": "Python 3 (ipykernel)",
   "language": "python",
   "name": "python3"
  },
  "language_info": {
   "codemirror_mode": {
    "name": "ipython",
    "version": 3
   },
   "file_extension": ".py",
   "mimetype": "text/x-python",
   "name": "python",
   "nbconvert_exporter": "python",
   "pygments_lexer": "ipython3",
   "version": "3.9.7"
  }
 },
 "nbformat": 4,
 "nbformat_minor": 5
}
